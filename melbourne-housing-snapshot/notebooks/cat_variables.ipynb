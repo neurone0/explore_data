{
 "cells": [
  {
   "cell_type": "code",
   "execution_count": 1,
   "id": "2c5a8e68-a7b3-4f00-bd59-c8ae34018408",
   "metadata": {},
   "outputs": [],
   "source": [
    "import pandas as pd\n",
    "from sklearn.model_selection import train_test_split"
   ]
  },
  {
   "cell_type": "code",
   "execution_count": 2,
   "id": "6db56c13-cf1b-4d7b-8f82-85a88287b884",
   "metadata": {},
   "outputs": [],
   "source": [
    "#Git_url\n",
    "train_url = \"https://github.com/neurone0/explore_data/raw/main/melbourne-housing-snapshot/Data/train.csv\"\n",
    "test_url = \"https://github.com/neurone0/explore_data/raw/main/melbourne-housing-snapshot/Data/test.csv\"\n",
    "#Read the data:\n",
    "X = pd.read_csv(train_url,index_col= \"Id\")\n",
    "X_test= pd.read_csv(test_url,index_col=\"Id\")"
   ]
  },
  {
   "cell_type": "code",
   "execution_count": 3,
   "id": "711c5e5e-539a-457c-9d41-14dec77b26ce",
   "metadata": {},
   "outputs": [],
   "source": [
    "# Remove rows with missing target\n",
    "X.dropna(axis=0, subset=['SalePrice'], inplace=True)\n",
    "#separate target from predictors\n",
    "y = X.SalePrice\n",
    "X.drop(['SalePrice'],axis= 1,inplace= True)"
   ]
  },
  {
   "cell_type": "code",
   "execution_count": 4,
   "id": "688a4d06-a1e5-4022-a1e6-5fd3d5542c67",
   "metadata": {},
   "outputs": [],
   "source": [
    "# To keep things simple, we'll drop columns with missing values\n",
    "cols_missing = [ col for col in X.columns if X[col].isnull().any()]\n",
    "X.drop(cols_missing,  axis= 1, inplace= True)\n",
    "X_test.drop(cols_missing, axis =1, inplace =True)"
   ]
  },
  {
   "cell_type": "code",
   "execution_count": 5,
   "id": "adbfbd3b-1917-454e-ba06-8d9d928f599c",
   "metadata": {},
   "outputs": [],
   "source": [
    "# Break off validation set from training data\n",
    "X_train,X_valid,y_train,y_valid = train_test_split(X,y,train_size=0.8,test_size= 0.2,random_state= 0)"
   ]
  },
  {
   "cell_type": "code",
   "execution_count": 6,
   "id": "f48f7614-8068-4d38-a077-a1c1dfa32054",
   "metadata": {},
   "outputs": [],
   "source": [
    "#create a function for test scores\n",
    "from sklearn.ensemble import RandomForestRegressor\n",
    "from sklearn.metrics import mean_absolute_error\n",
    "\n",
    "def scores(X_train,X_valid,y_train,y_valid):\n",
    "    model = RandomForestRegressor(n_estimators= 100, random_state= 0)\n",
    "    model.fit(X_train,y_train)\n",
    "    predict = model.predict(X_valid)\n",
    "    return mean_absolute_error(y_valid,predict)"
   ]
  },
  {
   "cell_type": "code",
   "execution_count": 10,
   "id": "bccd662d-301c-4aa3-af89-4f43eabcb2b3",
   "metadata": {},
   "outputs": [
    {
     "name": "stdout",
     "output_type": "stream",
     "text": [
      "      MSSubClass  LotArea  OverallQual  OverallCond  YearBuilt  YearRemodAdd  \\\n",
      "Id                                                                             \n",
      "619           20    11694            9            5       2007          2007   \n",
      "871           20     6600            5            5       1962          1962   \n",
      "93            30    13360            5            7       1921          2006   \n",
      "818           20    13265            8            5       2002          2002   \n",
      "303           20    13704            7            5       2001          2002   \n",
      "...          ...      ...          ...          ...        ...           ...   \n",
      "764           60     9430            8            5       1999          1999   \n",
      "836           20     9600            4            7       1950          1995   \n",
      "1217          90     8930            6            5       1978          1978   \n",
      "560          120     3196            7            5       2003          2004   \n",
      "685           60    16770            7            5       1998          1998   \n",
      "\n",
      "      BsmtFinSF1  BsmtFinSF2  BsmtUnfSF  TotalBsmtSF  ...  GarageArea  \\\n",
      "Id                                                    ...               \n",
      "619           48           0       1774         1822  ...         774   \n",
      "871            0           0        894          894  ...         308   \n",
      "93           713           0        163          876  ...         432   \n",
      "818         1218           0        350         1568  ...         857   \n",
      "303            0           0       1541         1541  ...         843   \n",
      "...          ...         ...        ...          ...  ...         ...   \n",
      "764         1163           0         89         1252  ...         856   \n",
      "836          442           0        625         1067  ...         436   \n",
      "1217           0           0          0            0  ...         539   \n",
      "560            0           0       1374         1374  ...         420   \n",
      "685            0           0       1195         1195  ...         486   \n",
      "\n",
      "      WoodDeckSF  OpenPorchSF  EnclosedPorch  3SsnPorch  ScreenPorch  \\\n",
      "Id                                                                     \n",
      "619            0          108              0          0          260   \n",
      "871            0            0              0          0            0   \n",
      "93             0            0             44          0            0   \n",
      "818          150           59              0          0            0   \n",
      "303          468           81              0          0            0   \n",
      "...          ...          ...            ...        ...          ...   \n",
      "764            0          128              0          0          180   \n",
      "836          290            0              0          0            0   \n",
      "1217           0            0              0          0            0   \n",
      "560          143           20              0          0            0   \n",
      "685            0           81              0          0            0   \n",
      "\n",
      "      PoolArea  MiscVal  MoSold  YrSold  \n",
      "Id                                       \n",
      "619          0        0       7    2007  \n",
      "871          0        0       8    2009  \n",
      "93           0        0       8    2009  \n",
      "818          0        0       7    2008  \n",
      "303          0        0       1    2006  \n",
      "...        ...      ...     ...     ...  \n",
      "764          0        0       7    2009  \n",
      "836          0        0       2    2010  \n",
      "1217         0        0       4    2010  \n",
      "560          0        0      10    2006  \n",
      "685          0        0       6    2010  \n",
      "\n",
      "[1168 rows x 33 columns]\n",
      "      MSSubClass  LotArea  OverallQual  OverallCond  YearBuilt  YearRemodAdd  \\\n",
      "Id                                                                             \n",
      "530           20    32668            6            3       1957          1975   \n",
      "492           50     9490            6            7       1941          1950   \n",
      "460           50     7015            5            4       1950          1950   \n",
      "280           60    10005            7            5       1977          1977   \n",
      "656          160     1680            6            5       1971          1971   \n",
      "...          ...      ...          ...          ...        ...           ...   \n",
      "327          120    10846            8            5       1993          1993   \n",
      "441           20    15431           10            5       2008          2008   \n",
      "1388          50     8520            6            7       1916          1950   \n",
      "1324          30     5330            4            7       1940          1950   \n",
      "62            75     7200            5            7       1920          1996   \n",
      "\n",
      "      BsmtFinSF1  BsmtFinSF2  BsmtUnfSF  TotalBsmtSF  ...  GarageArea  \\\n",
      "Id                                                    ...               \n",
      "530         1219           0        816         2035  ...         484   \n",
      "492          403         165        238          806  ...         240   \n",
      "460          185           0        524          709  ...         352   \n",
      "280          392           0        768         1160  ...         505   \n",
      "656            0           0        525          525  ...         264   \n",
      "...          ...         ...        ...          ...  ...         ...   \n",
      "327         1619           0        100         1719  ...         473   \n",
      "441         1767         539        788         3094  ...         672   \n",
      "1388         168         546          0          714  ...         216   \n",
      "1324         280           0        140          420  ...           0   \n",
      "62             0           0        530          530  ...         288   \n",
      "\n",
      "      WoodDeckSF  OpenPorchSF  EnclosedPorch  3SsnPorch  ScreenPorch  \\\n",
      "Id                                                                     \n",
      "530            0            0            200          0            0   \n",
      "492            0            0             32          0            0   \n",
      "460            0            0            248          0            0   \n",
      "280          288          117              0          0            0   \n",
      "656            0            0              0          0            0   \n",
      "...          ...          ...            ...        ...          ...   \n",
      "327          122           30              0          0            0   \n",
      "441            0           72              0          0          170   \n",
      "1388          88           15              0          0            0   \n",
      "1324         164            0              0          0            0   \n",
      "62             0            0            144          0            0   \n",
      "\n",
      "      PoolArea  MiscVal  MoSold  YrSold  \n",
      "Id                                       \n",
      "530          0        0       3    2007  \n",
      "492          0        0       8    2006  \n",
      "460          0        0       7    2009  \n",
      "280          0        0       3    2008  \n",
      "656          0        0       3    2010  \n",
      "...        ...      ...     ...     ...  \n",
      "327          0        0       5    2008  \n",
      "441          0        0       4    2009  \n",
      "1388         0        0       8    2007  \n",
      "1324         0        0      12    2009  \n",
      "62           0        0       3    2007  \n",
      "\n",
      "[292 rows x 33 columns]\n"
     ]
    }
   ],
   "source": [
    "# drop columns in training and validation data:\n",
    "# drop_X_train = X_train.select_dtypes(exclude=['object'])\n",
    "# drop_X_valid = X_train.select_dtypes(exclude=['object'])\n",
    "drop_X_train = X_train.select_dtypes(include=['number', 'float'])\n",
    "drop_X_valid = X_valid.select_dtypes(include=['number', 'float'])\n",
    "\n",
    "print(drop_X_train)\n",
    "print(drop_X_valid)"
   ]
  },
  {
   "cell_type": "code",
   "execution_count": 11,
   "id": "55cd93de-8a25-408f-bf52-08c1c44343dd",
   "metadata": {},
   "outputs": [
    {
     "name": "stdout",
     "output_type": "stream",
     "text": [
      "MAE from Approach 1 (Drop categorical variables):\n"
     ]
    },
    {
     "data": {
      "text/plain": [
       "17837.82570776256"
      ]
     },
     "execution_count": 11,
     "metadata": {},
     "output_type": "execute_result"
    }
   ],
   "source": [
    "print(\"MAE from Approach 1 (Drop categorical variables):\")\n",
    "scores(drop_X_train, drop_X_valid, y_train, y_valid)"
   ]
  },
  {
   "cell_type": "code",
   "execution_count": 12,
   "id": "98f765d1-678d-42c7-b387-24a259a480d8",
   "metadata": {},
   "outputs": [
    {
     "name": "stdout",
     "output_type": "stream",
     "text": [
      "Unique values in 'Condition2' column in training data: ['Norm' 'PosA' 'Feedr' 'PosN' 'Artery' 'RRAe']\n",
      "\n",
      "Unique values in 'Condition2' column in validation data: ['Norm' 'RRAn' 'RRNn' 'Artery' 'Feedr' 'PosN']\n"
     ]
    }
   ],
   "source": [
    "print(\"Unique values in 'Condition2' column in training data:\", X_train['Condition2'].unique())\n",
    "print(\"\\nUnique values in 'Condition2' column in validation data:\", X_valid['Condition2'].unique())"
   ]
  },
  {
   "cell_type": "code",
   "execution_count": 13,
   "id": "d3022c8c-3ab4-4e31-a145-a99219fda34b",
   "metadata": {},
   "outputs": [],
   "source": [
    "#Ordinal encoder will throw error if we use Condition2 column\n"
   ]
  },
  {
   "cell_type": "code",
   "execution_count": null,
   "id": "e58d34fd-8d26-4be0-809a-124de66c851f",
   "metadata": {},
   "outputs": [],
   "source": [
    "# Categorical columns in the training data\n",
    "object_cols = [ col for col in X_train.columns if X_train[col].dtype == 'object']\n",
    "object_cols\n"
   ]
  },
  {
   "cell_type": "code",
   "execution_count": null,
   "id": "db31921d-abe7-45c6-9df4-3053b5db5c90",
   "metadata": {},
   "outputs": [],
   "source": [
    "# Columns that can be safely ordinal encoded\n",
    "good_cols = [ col for col in object_cols if set(X_valid[col]).issubset(set(X_train[col]))]\n",
    "good_cols\n"
   ]
  },
  {
   "cell_type": "code",
   "execution_count": 17,
   "id": "606cafc3-b633-41f1-82a6-2305f71dc552",
   "metadata": {},
   "outputs": [
    {
     "data": {
      "text/plain": [
       "['RoofMatl', 'Condition2', 'Functional']"
      ]
     },
     "execution_count": 17,
     "metadata": {},
     "output_type": "execute_result"
    }
   ],
   "source": [
    "# Problematic columns that will be dropped from the dataset\n",
    "bad_label_cols = list(set(object_cols)-set(good_cols))\n",
    "bad_label_cols"
   ]
  },
  {
   "cell_type": "code",
   "execution_count": null,
   "id": "cb5cde80-7cc5-4322-b9ca-5294d6f3d7fb",
   "metadata": {},
   "outputs": [],
   "source": [
    "print('Categorical columns that will be ordinal encoded:', good_cols)\n",
    "print('\\nCategorical columns that will be dropped from the dataset:', bad_label_cols)"
   ]
  },
  {
   "cell_type": "code",
   "execution_count": 19,
   "id": "4d183be7-4a88-4634-992d-7de595f7afa2",
   "metadata": {},
   "outputs": [],
   "source": [
    "from sklearn.preprocessing import OrdinalEncoder\n",
    "# Drop categorical columns that will not be encoded\n",
    "label_X_train = X_train.drop(bad_label_cols, axis=1)\n",
    "label_X_valid = X_valid.drop(bad_label_cols, axis=1)"
   ]
  },
  {
   "cell_type": "code",
   "execution_count": 21,
   "id": "eab3edfc-0174-434d-911c-e8ac6651f468",
   "metadata": {},
   "outputs": [],
   "source": [
    "# Apply ordinal encoder \n",
    "myencoder = OrdinalEncoder()\n",
    "label_X_train[good_cols] = myencoder.fit_transform(X_train[good_cols])\n",
    "label_X_valid[good_cols] = myencoder.transform(X_valid[good_cols])"
   ]
  },
  {
   "cell_type": "code",
   "execution_count": 23,
   "id": "f57cddef-61f4-4207-bfe5-e965d76fd1d5",
   "metadata": {},
   "outputs": [
    {
     "name": "stdout",
     "output_type": "stream",
     "text": [
      "MAE from Approach 2 (Ordinal Encoding):\n",
      "17098.01649543379\n"
     ]
    }
   ],
   "source": [
    "print(\"MAE from Approach 2 (Ordinal Encoding):\") \n",
    "print(scores(label_X_train, label_X_valid, y_train, y_valid))"
   ]
  },
  {
   "cell_type": "code",
   "execution_count": 29,
   "id": "952b2cc1-83d9-4df3-bb52-46b876c36556",
   "metadata": {},
   "outputs": [],
   "source": [
    "# Get number of unique entries in each column with categorical data\n",
    "object_nunique = list(map(lambda col: X_train[col].nunique(), object_cols))\n",
    "d = dict(zip(object_cols, object_nunique))"
   ]
  },
  {
   "cell_type": "code",
   "execution_count": 30,
   "id": "c306d1c1-3617-4a31-881b-00a315fb0009",
   "metadata": {},
   "outputs": [
    {
     "data": {
      "text/plain": [
       "[('Street', 2),\n",
       " ('Utilities', 2),\n",
       " ('CentralAir', 2),\n",
       " ('LandSlope', 3),\n",
       " ('PavedDrive', 3),\n",
       " ('LotShape', 4),\n",
       " ('LandContour', 4),\n",
       " ('ExterQual', 4),\n",
       " ('KitchenQual', 4),\n",
       " ('MSZoning', 5),\n",
       " ('LotConfig', 5),\n",
       " ('BldgType', 5),\n",
       " ('ExterCond', 5),\n",
       " ('HeatingQC', 5),\n",
       " ('Condition2', 6),\n",
       " ('RoofStyle', 6),\n",
       " ('Foundation', 6),\n",
       " ('Heating', 6),\n",
       " ('Functional', 6),\n",
       " ('SaleCondition', 6),\n",
       " ('RoofMatl', 7),\n",
       " ('HouseStyle', 8),\n",
       " ('Condition1', 9),\n",
       " ('SaleType', 9),\n",
       " ('Exterior1st', 15),\n",
       " ('Exterior2nd', 16),\n",
       " ('Neighborhood', 25)]"
      ]
     },
     "execution_count": 30,
     "metadata": {},
     "output_type": "execute_result"
    }
   ],
   "source": [
    "# Print number of unique entries by column, in ascending order\n",
    "sorted(d.items(), key=lambda x: x[1])\n"
   ]
  },
  {
   "cell_type": "code",
   "execution_count": 31,
   "id": "435a9ac6-cf93-4b8b-a5bb-3f21a0631e13",
   "metadata": {},
   "outputs": [],
   "source": [
    "# Columns that will be one-hot encoded\n",
    "low_cardinality_cols = [col for col in object_cols if X_train[col].nunique() < 10]"
   ]
  },
  {
   "cell_type": "code",
   "execution_count": 32,
   "id": "9993f734-14b7-4f57-8d21-9b232a2cebf4",
   "metadata": {},
   "outputs": [],
   "source": [
    "# Columns that will be dropped from the dataset\n",
    "high_cardinality_cols = list(set(object_cols)-set(low_cardinality_cols))"
   ]
  },
  {
   "cell_type": "code",
   "execution_count": 33,
   "id": "86dc1fe8-c073-42d4-b9ed-68a9a3419f77",
   "metadata": {},
   "outputs": [
    {
     "name": "stdout",
     "output_type": "stream",
     "text": [
      "Categorical columns that will be one-hot encoded: ['MSZoning', 'Street', 'LotShape', 'LandContour', 'Utilities', 'LotConfig', 'LandSlope', 'Condition1', 'Condition2', 'BldgType', 'HouseStyle', 'RoofStyle', 'RoofMatl', 'ExterQual', 'ExterCond', 'Foundation', 'Heating', 'HeatingQC', 'CentralAir', 'KitchenQual', 'Functional', 'PavedDrive', 'SaleType', 'SaleCondition']\n",
      "\n",
      "Categorical columns that will be dropped from the dataset: ['Exterior1st', 'Exterior2nd', 'Neighborhood']\n"
     ]
    }
   ],
   "source": [
    "print('Categorical columns that will be one-hot encoded:', low_cardinality_cols)\n",
    "print('\\nCategorical columns that will be dropped from the dataset:', high_cardinality_cols)"
   ]
  },
  {
   "cell_type": "code",
   "execution_count": 35,
   "id": "b636f0e0-1fdc-4e19-ba20-ae8a003da8ed",
   "metadata": {},
   "outputs": [],
   "source": [
    "from sklearn.preprocessing import OneHotEncoder\n",
    "# Use as many lines of code as you need!\n",
    "myhotencoder= OneHotEncoder(handle_unknown='ignore', sparse_output=False)"
   ]
  },
  {
   "cell_type": "code",
   "execution_count": 36,
   "id": "f1f4b5b1-2e1d-4205-a292-02c112aa8ca0",
   "metadata": {},
   "outputs": [],
   "source": [
    "OH_cols_train = pd.DataFrame(myhotencoder.fit_transform(X_train[low_cardinality_cols]))\n",
    "OH_cols_valid = pd.DataFrame(myhotencoder.transform(X_valid[low_cardinality_cols]))"
   ]
  },
  {
   "cell_type": "code",
   "execution_count": 38,
   "id": "d2b55e87-bbcd-482a-9995-0ed159012402",
   "metadata": {},
   "outputs": [],
   "source": [
    "# One-hot encoding removed index; put it back\n",
    "OH_cols_train.index = X_train.index\n",
    "OH_cols_valid.index = X_valid.index"
   ]
  },
  {
   "cell_type": "code",
   "execution_count": 39,
   "id": "c3a1023f-f47d-4012-a5ce-75b08e39951e",
   "metadata": {},
   "outputs": [
    {
     "data": {
      "text/plain": [
       "Index([ 619,  871,   93,  818,  303, 1455,   41,  960,   76, 1390,\n",
       "       ...\n",
       "       1095,  600,  278, 1034, 1384,  764,  836, 1217,  560,  685],\n",
       "      dtype='int64', name='Id', length=1168)"
      ]
     },
     "execution_count": 39,
     "metadata": {},
     "output_type": "execute_result"
    }
   ],
   "source": [
    "OH_cols_train.index"
   ]
  },
  {
   "cell_type": "code",
   "execution_count": 41,
   "id": "fd3c2dd7-5795-4fb0-9f7a-f1926e08ae12",
   "metadata": {},
   "outputs": [],
   "source": [
    "# Remove categorical columns (will replace with one-hot encoding)\n",
    "num_X_train = X_train.drop(object_cols, axis=1)\n",
    "num_X_valid = X_valid.drop(object_cols, axis=1)"
   ]
  },
  {
   "cell_type": "code",
   "execution_count": 42,
   "id": "13b1fbb8-74a5-4d01-a721-1a11fb1fab3f",
   "metadata": {},
   "outputs": [],
   "source": [
    "# Add one-hot encoded columns to numerical features\n",
    "OH_X_train = pd.concat([num_X_train, OH_cols_train], axis=1)\n",
    "OH_X_valid = pd.concat([num_X_valid, OH_cols_valid], axis=1)"
   ]
  },
  {
   "cell_type": "code",
   "execution_count": 43,
   "id": "0689283f-4fbc-4fb5-9ae6-06d8175b7792",
   "metadata": {},
   "outputs": [],
   "source": [
    "# Ensure all columns have string type\n",
    "OH_X_train.columns = OH_X_train.columns.astype(str)\n",
    "OH_X_valid.columns = OH_X_valid.columns.astype(str)"
   ]
  },
  {
   "cell_type": "code",
   "execution_count": 44,
   "id": "48de5008-477a-4364-af4e-cf6ffc83cc83",
   "metadata": {},
   "outputs": [
    {
     "name": "stdout",
     "output_type": "stream",
     "text": [
      "MAE from Approach 3 (One-Hot Encoding):\n",
      "17525.345719178084\n"
     ]
    }
   ],
   "source": [
    "print(\"MAE from Approach 3 (One-Hot Encoding):\") \n",
    "print(scores(OH_X_train, OH_X_valid, y_train, y_valid))"
   ]
  },
  {
   "cell_type": "code",
   "execution_count": null,
   "id": "6884fec9-f56d-4969-91c9-e83cce1eb09b",
   "metadata": {},
   "outputs": [],
   "source": []
  }
 ],
 "metadata": {
  "kernelspec": {
   "display_name": "Python 3 (ipykernel)",
   "language": "python",
   "name": "python3"
  },
  "language_info": {
   "codemirror_mode": {
    "name": "ipython",
    "version": 3
   },
   "file_extension": ".py",
   "mimetype": "text/x-python",
   "name": "python",
   "nbconvert_exporter": "python",
   "pygments_lexer": "ipython3",
   "version": "3.13.5"
  }
 },
 "nbformat": 4,
 "nbformat_minor": 5
}
