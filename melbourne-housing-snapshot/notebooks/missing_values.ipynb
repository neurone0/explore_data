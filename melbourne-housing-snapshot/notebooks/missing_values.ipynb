{
 "cells": [
  {
   "cell_type": "code",
   "execution_count": 1,
   "id": "d49e6af6-e34a-473c-9ab0-81d7ff3a21b5",
   "metadata": {},
   "outputs": [],
   "source": [
    "import pandas as pd"
   ]
  },
  {
   "cell_type": "code",
   "execution_count": 2,
   "id": "c43c9d79-2b34-482b-9d55-adc69448e16b",
   "metadata": {},
   "outputs": [],
   "source": [
    "train_url = \"https://github.com/neurone0/explore_data/raw/main/melbourne-housing-snapshot/Data/train.csv\"\n",
    "test_url = \"https://github.com/neurone0/explore_data/raw/main/melbourne-housing-snapshot/Data/test.csv\""
   ]
  },
  {
   "cell_type": "code",
   "execution_count": 5,
   "id": "510d0972-aff0-47a4-a38b-b162cfcd89c1",
   "metadata": {},
   "outputs": [],
   "source": [
    "#Read the data:\n",
    "X_full = pd.read_csv(train_url,index_col= \"Id\")\n",
    "X_test_full = pd.read_csv(test_url,index_col=\"Id\")"
   ]
  },
  {
   "cell_type": "code",
   "execution_count": 10,
   "id": "15a38177-5562-4445-9726-c8dac6d42e15",
   "metadata": {},
   "outputs": [],
   "source": [
    "# Remove rows with missing target:\n",
    "X_full.dropna(axis=0,subset= ['SalePrice'],inplace= True)\n",
    "#separate target from predictors\n",
    "y = X_full.SalePrice\n",
    "X_full.drop(['SalePrice'], axis= 1, inplace= True)"
   ]
  },
  {
   "cell_type": "code",
   "execution_count": 13,
   "id": "187b2b47-c077-4dd8-bfcf-c87b38d3c18e",
   "metadata": {},
   "outputs": [],
   "source": [
    "#we'll use only numerical predictors\n",
    "X = X_full.select_dtypes(exclude=['object'])\n",
    "X_test = X_test_full.select_dtypes(exclude=['object'])"
   ]
  },
  {
   "cell_type": "code",
   "execution_count": 14,
   "id": "64461042-b2a7-49da-83be-ec152aa83f3f",
   "metadata": {},
   "outputs": [],
   "source": [
    "# Break off validation set from training data\n",
    "from sklearn.model_selection import train_test_split\n",
    "X_train,X_valid,y_train,y_valid = train_test_split(X,y,train_size=0.8,test_size= 0.2, random_state= 0)"
   ]
  },
  {
   "cell_type": "code",
   "execution_count": 15,
   "id": "7de474fc-0132-4a0b-b1d1-0e2d93042391",
   "metadata": {},
   "outputs": [
    {
     "data": {
      "text/html": [
       "<div>\n",
       "<style scoped>\n",
       "    .dataframe tbody tr th:only-of-type {\n",
       "        vertical-align: middle;\n",
       "    }\n",
       "\n",
       "    .dataframe tbody tr th {\n",
       "        vertical-align: top;\n",
       "    }\n",
       "\n",
       "    .dataframe thead th {\n",
       "        text-align: right;\n",
       "    }\n",
       "</style>\n",
       "<table border=\"1\" class=\"dataframe\">\n",
       "  <thead>\n",
       "    <tr style=\"text-align: right;\">\n",
       "      <th></th>\n",
       "      <th>MSSubClass</th>\n",
       "      <th>LotFrontage</th>\n",
       "      <th>LotArea</th>\n",
       "      <th>OverallQual</th>\n",
       "      <th>OverallCond</th>\n",
       "      <th>YearBuilt</th>\n",
       "      <th>YearRemodAdd</th>\n",
       "      <th>MasVnrArea</th>\n",
       "      <th>BsmtFinSF1</th>\n",
       "      <th>BsmtFinSF2</th>\n",
       "      <th>...</th>\n",
       "      <th>GarageArea</th>\n",
       "      <th>WoodDeckSF</th>\n",
       "      <th>OpenPorchSF</th>\n",
       "      <th>EnclosedPorch</th>\n",
       "      <th>3SsnPorch</th>\n",
       "      <th>ScreenPorch</th>\n",
       "      <th>PoolArea</th>\n",
       "      <th>MiscVal</th>\n",
       "      <th>MoSold</th>\n",
       "      <th>YrSold</th>\n",
       "    </tr>\n",
       "    <tr>\n",
       "      <th>Id</th>\n",
       "      <th></th>\n",
       "      <th></th>\n",
       "      <th></th>\n",
       "      <th></th>\n",
       "      <th></th>\n",
       "      <th></th>\n",
       "      <th></th>\n",
       "      <th></th>\n",
       "      <th></th>\n",
       "      <th></th>\n",
       "      <th></th>\n",
       "      <th></th>\n",
       "      <th></th>\n",
       "      <th></th>\n",
       "      <th></th>\n",
       "      <th></th>\n",
       "      <th></th>\n",
       "      <th></th>\n",
       "      <th></th>\n",
       "      <th></th>\n",
       "      <th></th>\n",
       "    </tr>\n",
       "  </thead>\n",
       "  <tbody>\n",
       "    <tr>\n",
       "      <th>619</th>\n",
       "      <td>20</td>\n",
       "      <td>90.0</td>\n",
       "      <td>11694</td>\n",
       "      <td>9</td>\n",
       "      <td>5</td>\n",
       "      <td>2007</td>\n",
       "      <td>2007</td>\n",
       "      <td>452.0</td>\n",
       "      <td>48</td>\n",
       "      <td>0</td>\n",
       "      <td>...</td>\n",
       "      <td>774</td>\n",
       "      <td>0</td>\n",
       "      <td>108</td>\n",
       "      <td>0</td>\n",
       "      <td>0</td>\n",
       "      <td>260</td>\n",
       "      <td>0</td>\n",
       "      <td>0</td>\n",
       "      <td>7</td>\n",
       "      <td>2007</td>\n",
       "    </tr>\n",
       "    <tr>\n",
       "      <th>871</th>\n",
       "      <td>20</td>\n",
       "      <td>60.0</td>\n",
       "      <td>6600</td>\n",
       "      <td>5</td>\n",
       "      <td>5</td>\n",
       "      <td>1962</td>\n",
       "      <td>1962</td>\n",
       "      <td>0.0</td>\n",
       "      <td>0</td>\n",
       "      <td>0</td>\n",
       "      <td>...</td>\n",
       "      <td>308</td>\n",
       "      <td>0</td>\n",
       "      <td>0</td>\n",
       "      <td>0</td>\n",
       "      <td>0</td>\n",
       "      <td>0</td>\n",
       "      <td>0</td>\n",
       "      <td>0</td>\n",
       "      <td>8</td>\n",
       "      <td>2009</td>\n",
       "    </tr>\n",
       "    <tr>\n",
       "      <th>93</th>\n",
       "      <td>30</td>\n",
       "      <td>80.0</td>\n",
       "      <td>13360</td>\n",
       "      <td>5</td>\n",
       "      <td>7</td>\n",
       "      <td>1921</td>\n",
       "      <td>2006</td>\n",
       "      <td>0.0</td>\n",
       "      <td>713</td>\n",
       "      <td>0</td>\n",
       "      <td>...</td>\n",
       "      <td>432</td>\n",
       "      <td>0</td>\n",
       "      <td>0</td>\n",
       "      <td>44</td>\n",
       "      <td>0</td>\n",
       "      <td>0</td>\n",
       "      <td>0</td>\n",
       "      <td>0</td>\n",
       "      <td>8</td>\n",
       "      <td>2009</td>\n",
       "    </tr>\n",
       "    <tr>\n",
       "      <th>818</th>\n",
       "      <td>20</td>\n",
       "      <td>NaN</td>\n",
       "      <td>13265</td>\n",
       "      <td>8</td>\n",
       "      <td>5</td>\n",
       "      <td>2002</td>\n",
       "      <td>2002</td>\n",
       "      <td>148.0</td>\n",
       "      <td>1218</td>\n",
       "      <td>0</td>\n",
       "      <td>...</td>\n",
       "      <td>857</td>\n",
       "      <td>150</td>\n",
       "      <td>59</td>\n",
       "      <td>0</td>\n",
       "      <td>0</td>\n",
       "      <td>0</td>\n",
       "      <td>0</td>\n",
       "      <td>0</td>\n",
       "      <td>7</td>\n",
       "      <td>2008</td>\n",
       "    </tr>\n",
       "    <tr>\n",
       "      <th>303</th>\n",
       "      <td>20</td>\n",
       "      <td>118.0</td>\n",
       "      <td>13704</td>\n",
       "      <td>7</td>\n",
       "      <td>5</td>\n",
       "      <td>2001</td>\n",
       "      <td>2002</td>\n",
       "      <td>150.0</td>\n",
       "      <td>0</td>\n",
       "      <td>0</td>\n",
       "      <td>...</td>\n",
       "      <td>843</td>\n",
       "      <td>468</td>\n",
       "      <td>81</td>\n",
       "      <td>0</td>\n",
       "      <td>0</td>\n",
       "      <td>0</td>\n",
       "      <td>0</td>\n",
       "      <td>0</td>\n",
       "      <td>1</td>\n",
       "      <td>2006</td>\n",
       "    </tr>\n",
       "  </tbody>\n",
       "</table>\n",
       "<p>5 rows × 36 columns</p>\n",
       "</div>"
      ],
      "text/plain": [
       "     MSSubClass  LotFrontage  LotArea  OverallQual  OverallCond  YearBuilt  \\\n",
       "Id                                                                           \n",
       "619          20         90.0    11694            9            5       2007   \n",
       "871          20         60.0     6600            5            5       1962   \n",
       "93           30         80.0    13360            5            7       1921   \n",
       "818          20          NaN    13265            8            5       2002   \n",
       "303          20        118.0    13704            7            5       2001   \n",
       "\n",
       "     YearRemodAdd  MasVnrArea  BsmtFinSF1  BsmtFinSF2  ...  GarageArea  \\\n",
       "Id                                                     ...               \n",
       "619          2007       452.0          48           0  ...         774   \n",
       "871          1962         0.0           0           0  ...         308   \n",
       "93           2006         0.0         713           0  ...         432   \n",
       "818          2002       148.0        1218           0  ...         857   \n",
       "303          2002       150.0           0           0  ...         843   \n",
       "\n",
       "     WoodDeckSF  OpenPorchSF  EnclosedPorch  3SsnPorch  ScreenPorch  PoolArea  \\\n",
       "Id                                                                              \n",
       "619           0          108              0          0          260         0   \n",
       "871           0            0              0          0            0         0   \n",
       "93            0            0             44          0            0         0   \n",
       "818         150           59              0          0            0         0   \n",
       "303         468           81              0          0            0         0   \n",
       "\n",
       "     MiscVal  MoSold  YrSold  \n",
       "Id                            \n",
       "619        0       7    2007  \n",
       "871        0       8    2009  \n",
       "93         0       8    2009  \n",
       "818        0       7    2008  \n",
       "303        0       1    2006  \n",
       "\n",
       "[5 rows x 36 columns]"
      ]
     },
     "execution_count": 15,
     "metadata": {},
     "output_type": "execute_result"
    }
   ],
   "source": [
    "X_train.head()"
   ]
  },
  {
   "cell_type": "code",
   "execution_count": 20,
   "id": "e9501ba0-9fe8-4e68-b763-a900ee0e38c8",
   "metadata": {},
   "outputs": [
    {
     "name": "stdout",
     "output_type": "stream",
     "text": [
      "(1168, 36)\n",
      "LotFrontage    212\n",
      "MasVnrArea       6\n",
      "GarageYrBlt     58\n",
      "dtype: int64\n"
     ]
    }
   ],
   "source": [
    "# Shape of training data (num_rows, num_columns)\n",
    "print(X_train.shape)\n",
    "# Number of missing values in each column of training data\n",
    "missing_value_count = (X_train.isnull().sum())\n",
    "print(missing_value_count[missing_value_count>0])"
   ]
  },
  {
   "cell_type": "code",
   "execution_count": 21,
   "id": "3a262409-419f-4e9f-bf41-b4732cc40ba6",
   "metadata": {},
   "outputs": [],
   "source": [
    "# function reports the mean absolute error (MAE) from a random forest model.\n",
    "from sklearn.ensemble import RandomForestRegressor\n",
    "from sklearn.metrics import mean_absolute_error\n"
   ]
  },
  {
   "cell_type": "code",
   "execution_count": 28,
   "id": "4fba3dfe-90f8-495c-b820-bfb4a9e03bee",
   "metadata": {},
   "outputs": [],
   "source": [
    "#Function comparing different approach:\n",
    "def score_dataset(X_train, X_valid, y_train, y_valid):\n",
    "    model = RandomForestRegressor()\n",
    "    model.fit(X_train,y_train)\n",
    "    pred = model.predict(X_valid)\n",
    "    return mean_absolute_error(y_valid,pred)"
   ]
  },
  {
   "cell_type": "code",
   "execution_count": 29,
   "id": "f042597d-3bc7-4b34-b38c-35518db01932",
   "metadata": {},
   "outputs": [
    {
     "data": {
      "text/plain": [
       "['LotFrontage', 'MasVnrArea', 'GarageYrBlt']"
      ]
     },
     "execution_count": 29,
     "metadata": {},
     "output_type": "execute_result"
    }
   ],
   "source": [
    "#Drop column with missing values\n",
    "#get names of columns with missing values\n",
    "missingcols = [col for col in X_train.columns if X_train[col].isnull().any()]\n",
    "missingcols"
   ]
  },
  {
   "cell_type": "code",
   "execution_count": 30,
   "id": "0e8bb2d1-82c7-4424-99b4-38292f5bec2a",
   "metadata": {},
   "outputs": [],
   "source": [
    "#drop columns in training and validation data\n",
    "reduced_X_train = X_train.drop(missingcols, axis= 1)\n",
    "reduced_X_valid = X_valid.drop(missingcols, axis= 1)"
   ]
  },
  {
   "cell_type": "code",
   "execution_count": 31,
   "id": "9e26bdef-a20e-46f1-8a39-d0026247c26d",
   "metadata": {},
   "outputs": [
    {
     "name": "stdout",
     "output_type": "stream",
     "text": [
      "MAE (Drop columns with missing values):\n",
      "17779.425662100457\n"
     ]
    }
   ],
   "source": [
    "print(\"MAE (Drop columns with missing values):\")\n",
    "print(score_dataset(reduced_X_train, reduced_X_valid, y_train, y_valid))"
   ]
  },
  {
   "cell_type": "code",
   "execution_count": 32,
   "id": "46c1b1cf-7fd4-45a1-a66b-53a499f6529b",
   "metadata": {},
   "outputs": [],
   "source": [
    "#Imputation"
   ]
  },
  {
   "cell_type": "code",
   "execution_count": 33,
   "id": "3e601a82-86b0-4e79-ab15-e9ac966e7a77",
   "metadata": {},
   "outputs": [
    {
     "name": "stdout",
     "output_type": "stream",
     "text": [
      "     0           1        2    3    4       5       6      7       8    9   \\\n",
      "0  20.0   90.000000  11694.0  9.0  5.0  2007.0  2007.0  452.0    48.0  0.0   \n",
      "1  20.0   60.000000   6600.0  5.0  5.0  1962.0  1962.0    0.0     0.0  0.0   \n",
      "2  30.0   80.000000  13360.0  5.0  7.0  1921.0  2006.0    0.0   713.0  0.0   \n",
      "3  20.0   69.614017  13265.0  8.0  5.0  2002.0  2002.0  148.0  1218.0  0.0   \n",
      "4  20.0  118.000000  13704.0  7.0  5.0  2001.0  2002.0  150.0     0.0  0.0   \n",
      "\n",
      "   ...     26     27     28    29   30     31   32   33   34      35  \n",
      "0  ...  774.0    0.0  108.0   0.0  0.0  260.0  0.0  0.0  7.0  2007.0  \n",
      "1  ...  308.0    0.0    0.0   0.0  0.0    0.0  0.0  0.0  8.0  2009.0  \n",
      "2  ...  432.0    0.0    0.0  44.0  0.0    0.0  0.0  0.0  8.0  2009.0  \n",
      "3  ...  857.0  150.0   59.0   0.0  0.0    0.0  0.0  0.0  7.0  2008.0  \n",
      "4  ...  843.0  468.0   81.0   0.0  0.0    0.0  0.0  0.0  1.0  2006.0  \n",
      "\n",
      "[5 rows x 36 columns]\n",
      "      0         1        2    3    4       5       6           7       8   \\\n",
      "0   20.0  71.75102  32668.0  6.0  3.0  1957.0  1975.0  104.503448  1219.0   \n",
      "1   50.0  79.00000   9490.0  6.0  7.0  1941.0  1950.0    0.000000   403.0   \n",
      "2   50.0  71.75102   7015.0  5.0  4.0  1950.0  1950.0  161.000000   185.0   \n",
      "3   60.0  83.00000  10005.0  7.0  5.0  1977.0  1977.0  299.000000   392.0   \n",
      "4  160.0  21.00000   1680.0  6.0  5.0  1971.0  1971.0  381.000000     0.0   \n",
      "\n",
      "      9   ...     26     27     28     29   30   31   32   33   34      35  \n",
      "0    0.0  ...  484.0    0.0    0.0  200.0  0.0  0.0  0.0  0.0  3.0  2007.0  \n",
      "1  165.0  ...  240.0    0.0    0.0   32.0  0.0  0.0  0.0  0.0  8.0  2006.0  \n",
      "2    0.0  ...  352.0    0.0    0.0  248.0  0.0  0.0  0.0  0.0  7.0  2009.0  \n",
      "3    0.0  ...  505.0  288.0  117.0    0.0  0.0  0.0  0.0  0.0  3.0  2008.0  \n",
      "4    0.0  ...  264.0    0.0    0.0    0.0  0.0  0.0  0.0  0.0  3.0  2010.0  \n",
      "\n",
      "[5 rows x 36 columns]\n"
     ]
    }
   ],
   "source": [
    "from sklearn.impute import SimpleImputer\n",
    "my_imputer = SimpleImputer()\n",
    "imputed_X_train = pd.DataFrame(my_imputer.fit_transform(X_train))\n",
    "imputed_X_valid = pd.DataFrame(my_imputer.fit_transform(X_valid))\n",
    "print(imputed_X_train.head())\n",
    "print(imputed_X_valid.head())"
   ]
  },
  {
   "cell_type": "code",
   "execution_count": 34,
   "id": "e54cdbd2-60c7-4fac-8703-654d6da47284",
   "metadata": {},
   "outputs": [
    {
     "name": "stdout",
     "output_type": "stream",
     "text": [
      "   MSSubClass  LotFrontage  LotArea  OverallQual  OverallCond  YearBuilt  \\\n",
      "0        20.0    90.000000  11694.0          9.0          5.0     2007.0   \n",
      "1        20.0    60.000000   6600.0          5.0          5.0     1962.0   \n",
      "2        30.0    80.000000  13360.0          5.0          7.0     1921.0   \n",
      "3        20.0    69.614017  13265.0          8.0          5.0     2002.0   \n",
      "4        20.0   118.000000  13704.0          7.0          5.0     2001.0   \n",
      "\n",
      "   YearRemodAdd  MasVnrArea  BsmtFinSF1  BsmtFinSF2  ...  GarageArea  \\\n",
      "0        2007.0       452.0        48.0         0.0  ...       774.0   \n",
      "1        1962.0         0.0         0.0         0.0  ...       308.0   \n",
      "2        2006.0         0.0       713.0         0.0  ...       432.0   \n",
      "3        2002.0       148.0      1218.0         0.0  ...       857.0   \n",
      "4        2002.0       150.0         0.0         0.0  ...       843.0   \n",
      "\n",
      "   WoodDeckSF  OpenPorchSF  EnclosedPorch  3SsnPorch  ScreenPorch  PoolArea  \\\n",
      "0         0.0        108.0            0.0        0.0        260.0       0.0   \n",
      "1         0.0          0.0            0.0        0.0          0.0       0.0   \n",
      "2         0.0          0.0           44.0        0.0          0.0       0.0   \n",
      "3       150.0         59.0            0.0        0.0          0.0       0.0   \n",
      "4       468.0         81.0            0.0        0.0          0.0       0.0   \n",
      "\n",
      "   MiscVal  MoSold  YrSold  \n",
      "0      0.0     7.0  2007.0  \n",
      "1      0.0     8.0  2009.0  \n",
      "2      0.0     8.0  2009.0  \n",
      "3      0.0     7.0  2008.0  \n",
      "4      0.0     1.0  2006.0  \n",
      "\n",
      "[5 rows x 36 columns]\n",
      "   MSSubClass  LotFrontage  LotArea  OverallQual  OverallCond  YearBuilt  \\\n",
      "0        20.0     71.75102  32668.0          6.0          3.0     1957.0   \n",
      "1        50.0     79.00000   9490.0          6.0          7.0     1941.0   \n",
      "2        50.0     71.75102   7015.0          5.0          4.0     1950.0   \n",
      "3        60.0     83.00000  10005.0          7.0          5.0     1977.0   \n",
      "4       160.0     21.00000   1680.0          6.0          5.0     1971.0   \n",
      "\n",
      "   YearRemodAdd  MasVnrArea  BsmtFinSF1  BsmtFinSF2  ...  GarageArea  \\\n",
      "0        1975.0  104.503448      1219.0         0.0  ...       484.0   \n",
      "1        1950.0    0.000000       403.0       165.0  ...       240.0   \n",
      "2        1950.0  161.000000       185.0         0.0  ...       352.0   \n",
      "3        1977.0  299.000000       392.0         0.0  ...       505.0   \n",
      "4        1971.0  381.000000         0.0         0.0  ...       264.0   \n",
      "\n",
      "   WoodDeckSF  OpenPorchSF  EnclosedPorch  3SsnPorch  ScreenPorch  PoolArea  \\\n",
      "0         0.0          0.0          200.0        0.0          0.0       0.0   \n",
      "1         0.0          0.0           32.0        0.0          0.0       0.0   \n",
      "2         0.0          0.0          248.0        0.0          0.0       0.0   \n",
      "3       288.0        117.0            0.0        0.0          0.0       0.0   \n",
      "4         0.0          0.0            0.0        0.0          0.0       0.0   \n",
      "\n",
      "   MiscVal  MoSold  YrSold  \n",
      "0      0.0     3.0  2007.0  \n",
      "1      0.0     8.0  2006.0  \n",
      "2      0.0     7.0  2009.0  \n",
      "3      0.0     3.0  2008.0  \n",
      "4      0.0     3.0  2010.0  \n",
      "\n",
      "[5 rows x 36 columns]\n"
     ]
    }
   ],
   "source": [
    "#imputation removed column names; put them back\n",
    "imputed_X_train.columns = X_train.columns\n",
    "imputed_X_valid.columns = X_valid.columns\n",
    "print(imputed_X_train.head())\n",
    "print(imputed_X_valid.head())\n",
    "\n"
   ]
  },
  {
   "cell_type": "code",
   "execution_count": 35,
   "id": "a83e8a11-dade-4206-b4a6-f8306e401a7a",
   "metadata": {},
   "outputs": [
    {
     "name": "stdout",
     "output_type": "stream",
     "text": [
      "MAE (Imputation):\n",
      "18185.359543378996\n"
     ]
    }
   ],
   "source": [
    "print(\"MAE (Imputation):\")\n",
    "print(score_dataset(imputed_X_train, imputed_X_valid, y_train, y_valid))"
   ]
  },
  {
   "cell_type": "code",
   "execution_count": 36,
   "id": "9abe18d8-be3c-48b9-8a54-9f179def98a3",
   "metadata": {},
   "outputs": [],
   "source": [
    "# Preprocessed training and validation features\n",
    "final_imputer = SimpleImputer(strategy='median')\n",
    "final_X_train = pd.DataFrame(final_imputer.fit_transform(X_train))\n",
    "final_X_valid = pd.DataFrame(final_imputer.transform(X_valid))"
   ]
  },
  {
   "cell_type": "code",
   "execution_count": 37,
   "id": "b79a7a05-9c1b-4b6e-a361-cc719fc1aa1f",
   "metadata": {},
   "outputs": [],
   "source": [
    "# Imputation removed column names; put them back\n",
    "final_X_train.columns = X_train.columns\n",
    "final_X_valid.columns = X_valid.columns"
   ]
  },
  {
   "cell_type": "code",
   "execution_count": 38,
   "id": "d51bca19-9747-4e5b-bf86-5b274a332230",
   "metadata": {},
   "outputs": [
    {
     "name": "stdout",
     "output_type": "stream",
     "text": [
      "MAE (Your approach):\n",
      "17791.59899543379\n"
     ]
    }
   ],
   "source": [
    "# Define and fit model\n",
    "model = RandomForestRegressor(n_estimators=100, random_state=0)\n",
    "model.fit(final_X_train, y_train)\n",
    "\n",
    "# Get validation predictions and MAE\n",
    "preds_valid = model.predict(final_X_valid)\n",
    "print(\"MAE (Your approach):\")\n",
    "print(mean_absolute_error(y_valid, preds_valid))"
   ]
  },
  {
   "cell_type": "code",
   "execution_count": 40,
   "id": "5dad5407-1640-4ad6-8b08-9372471e0d7a",
   "metadata": {},
   "outputs": [
    {
     "name": "stderr",
     "output_type": "stream",
     "text": [
      "C:\\Users\\subra\\anaconda3\\Lib\\site-packages\\sklearn\\utils\\validation.py:2739: UserWarning: X does not have valid feature names, but RandomForestRegressor was fitted with feature names\n",
      "  warnings.warn(\n"
     ]
    }
   ],
   "source": [
    "# Fill in the line below: preprocess test data\n",
    "final_X_test = pd.DataFrame(final_imputer.transform(X_test))\n",
    "\n",
    "# Get test predictions\n",
    "preds_test = model.predict(final_X_test)"
   ]
  },
  {
   "cell_type": "code",
   "execution_count": 41,
   "id": "0fd76eb8-e479-4e19-a894-449eff3169ac",
   "metadata": {},
   "outputs": [],
   "source": [
    "# Save test predictions to file\n",
    "output = pd.DataFrame({'Id': X_test.index,\n",
    "                       'SalePrice': preds_test})\n",
    "# output.to_csv('submission.csv', index=False)"
   ]
  },
  {
   "cell_type": "code",
   "execution_count": null,
   "id": "59ebb838-5e15-4600-b6ae-794bcab40a61",
   "metadata": {},
   "outputs": [],
   "source": []
  }
 ],
 "metadata": {
  "kernelspec": {
   "display_name": "Python 3 (ipykernel)",
   "language": "python",
   "name": "python3"
  },
  "language_info": {
   "codemirror_mode": {
    "name": "ipython",
    "version": 3
   },
   "file_extension": ".py",
   "mimetype": "text/x-python",
   "name": "python",
   "nbconvert_exporter": "python",
   "pygments_lexer": "ipython3",
   "version": "3.13.5"
  }
 },
 "nbformat": 4,
 "nbformat_minor": 5
}
