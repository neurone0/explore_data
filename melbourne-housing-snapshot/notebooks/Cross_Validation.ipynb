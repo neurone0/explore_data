{
 "cells": [
  {
   "cell_type": "code",
   "execution_count": 1,
   "id": "c16ca09c-6df3-4699-b90a-ec2bfffd25f0",
   "metadata": {},
   "outputs": [],
   "source": [
    "import pandas as pd\n",
    "#Git_url\n",
    "train_url = \"https://github.com/neurone0/explore_data/raw/main/melbourne-housing-snapshot/Data/train.csv\"\n",
    "test_url = \"https://github.com/neurone0/explore_data/raw/main/melbourne-housing-snapshot/Data/test.csv\""
   ]
  },
  {
   "cell_type": "code",
   "execution_count": 2,
   "id": "90e12810-2988-4d61-8b37-669be611d314",
   "metadata": {},
   "outputs": [],
   "source": [
    "from sklearn.model_selection import train_test_split\n",
    "\n",
    "train_data = pd.read_csv(train_url,index_col= \"Id\")\n",
    "test_data = pd.read_csv(test_url,index_col= \"Id\")"
   ]
  },
  {
   "cell_type": "code",
   "execution_count": 3,
   "id": "2b24be61-88ef-4fab-8d2e-9ec700a63728",
   "metadata": {},
   "outputs": [],
   "source": [
    "# Remove rows with missing target, separate target from predictors\n",
    "train_data.dropna(axis=0,subset=['SalePrice'],inplace= True)"
   ]
  },
  {
   "cell_type": "code",
   "execution_count": 4,
   "id": "fd691f9a-8496-4923-8824-7b83d29d71a6",
   "metadata": {},
   "outputs": [],
   "source": [
    "y = train_data.SalePrice\n",
    "train_data.drop(['SalePrice'],axis =1, inplace= True)\n"
   ]
  },
  {
   "cell_type": "code",
   "execution_count": 8,
   "id": "14529c5f-671e-423f-b352-538b51fd8f97",
   "metadata": {},
   "outputs": [],
   "source": [
    "# Select numeric columns only\n",
    "numeric_cols = [col for col in train_data.columns if train_data[col].dtype in ['int64','float64']]\n",
    "X = train_data[numeric_cols].copy()\n",
    "X_test = test_data[numeric_cols].copy()"
   ]
  },
  {
   "cell_type": "code",
   "execution_count": 9,
   "id": "c8affe6b-8ae4-4c44-849b-4b32d0c6595b",
   "metadata": {},
   "outputs": [],
   "source": [
    "from sklearn.ensemble import RandomForestRegressor\n",
    "from sklearn.pipeline import Pipeline\n",
    "from sklearn.impute import SimpleImputer\n",
    "\n",
    "my_pipeline = Pipeline(steps=[\n",
    "    ('preprocessor',SimpleImputer()),\n",
    "    ('model',RandomForestRegressor(n_estimators=50, random_state= 0))\n",
    "])"
   ]
  },
  {
   "cell_type": "code",
   "execution_count": 10,
   "id": "c6685331-7480-4330-ba30-5df1afd4d50a",
   "metadata": {},
   "outputs": [
    {
     "name": "stdout",
     "output_type": "stream",
     "text": [
      "Average MAE score: 18276.410356164386\n"
     ]
    }
   ],
   "source": [
    "from sklearn.model_selection import cross_val_score\n",
    "# Multiply by -1 since sklearn calculates *negative* MAE\n",
    "\n",
    "scores = -1 * cross_val_score(my_pipeline, X, y,\n",
    "                              cv=5,\n",
    "                              scoring='neg_mean_absolute_error')\n",
    "\n",
    "print(\"Average MAE score:\", scores.mean())"
   ]
  },
  {
   "cell_type": "code",
   "execution_count": 11,
   "id": "21d5172f-c1bc-402e-892f-c1fbd36745b5",
   "metadata": {},
   "outputs": [],
   "source": [
    "#Function\n",
    "def get_score(n_estimators):\n",
    "    my_pipeline = Pipeline(steps=[\n",
    "        ('preprocessor', SimpleImputer()),\n",
    "        ('model', RandomForestRegressor(n_estimators, random_state=0))\n",
    "    ])\n",
    "    scores = -1 * cross_val_score(my_pipeline, X, y,\n",
    "                                  cv=3,\n",
    "                                  scoring='neg_mean_absolute_error')\n",
    "    return scores.mean()"
   ]
  },
  {
   "cell_type": "markdown",
   "id": "35c9715d-c478-474d-b431-0b247d4e9b93",
   "metadata": {},
   "source": [
    "Use the function that you defined above to evaluate the model performance corresponding to eight different values for the number of trees in the random forest: 50, 100, 150, ..., 300, 350, 400.\n",
    " \n",
    "Store your results in a Python dictionary results, where results[i] is the average MAE returned by get_score(i)."
   ]
  },
  {
   "cell_type": "code",
   "execution_count": 12,
   "id": "c27385f0-c739-4730-a539-58c965434652",
   "metadata": {},
   "outputs": [],
   "source": [
    "results = { i : get_score(i*50) for i in range(1,9)}"
   ]
  },
  {
   "cell_type": "code",
   "execution_count": 13,
   "id": "a0c69ebc-a029-414b-9cb6-e5e2de6a8c6e",
   "metadata": {},
   "outputs": [
    {
     "data": {
      "text/plain": [
       "{1: np.float64(18353.8393511688),\n",
       " 2: np.float64(18395.2151680032),\n",
       " 3: np.float64(18288.730020956387),\n",
       " 4: np.float64(18248.345889801505),\n",
       " 5: np.float64(18255.26922247291),\n",
       " 6: np.float64(18275.241922621914),\n",
       " 7: np.float64(18270.29183308043),\n",
       " 8: np.float64(18270.197974402367)}"
      ]
     },
     "execution_count": 13,
     "metadata": {},
     "output_type": "execute_result"
    }
   ],
   "source": [
    "results"
   ]
  },
  {
   "cell_type": "code",
   "execution_count": 14,
   "id": "0fee734a-192b-4b03-a676-980ea07a11e7",
   "metadata": {},
   "outputs": [
    {
     "data": {
      "image/png": "[encoded data removed]",
      "text/plain": [
       "<Figure size 640x480 with 1 Axes>"
      ]
     },
     "metadata": {},
     "output_type": "display_data"
    }
   ],
   "source": [
    "import matplotlib.pyplot as plt\n",
    "%matplotlib inline\n",
    "\n",
    "plt.plot(list(results.keys()), list(results.values()))\n",
    "plt.show()"
   ]
  },
  {
   "cell_type": "code",
   "execution_count": 15,
   "id": "12d8e22b-9aa1-4744-9e75-de87017455a5",
   "metadata": {},
   "outputs": [],
   "source": [
    "n_estimators_best = min(results, key=results.get)"
   ]
  },
  {
   "cell_type": "code",
   "execution_count": null,
   "id": "fcaa4452-d55e-4698-9256-95ffdf8f538c",
   "metadata": {},
   "outputs": [],
   "source": []
  }
 ],
 "metadata": {
  "kernelspec": {
   "display_name": "Python 3 (ipykernel)",
   "language": "python",
   "name": "python3"
  },
  "language_info": {
   "codemirror_mode": {
    "name": "ipython",
    "version": 3
   },
   "file_extension": ".py",
   "mimetype": "text/x-python",
   "name": "python",
   "nbconvert_exporter": "python",
   "pygments_lexer": "ipython3",
   "version": "3.13.5"
  }
 },
 "nbformat": 4,
 "nbformat_minor": 5
}
